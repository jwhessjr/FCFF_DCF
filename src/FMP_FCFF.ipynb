{
 "cells": [
  {
   "cell_type": "markdown",
   "metadata": {},
   "source": [
    "# Financial Modeling Prep Discounted Cashflow Model\n",
    "\n",
    "## Free Cashflow to the Firm (FCFF)"
   ]
  },
  {
   "cell_type": "markdown",
   "metadata": {},
   "source": []
  },
  {
   "cell_type": "markdown",
   "metadata": {},
   "source": [
    "The value of an asset comes from its ability to generate cash flows.  When valuing a firm, these cash flows should be after tax and reinvestment needs but before debt payments.\n",
    "\n",
    "Three basic steps to estimating cash flows\n",
    "1. Estimate the earnings generated using existing assets\n",
    "2. Estimate the portion of these earnings that will be used to pay taxes\n",
    "3. Determine how much a firm is reinvesting for future growth\n",
    "\n",
    "\n",
    "FCFF = EBIT(1 - Tax Rate) + Depreciation - CAPEX - Changes to Noncash Working Capital   -- Unlevered Cashflow\n",
    "\n",
    "The tax rate used should be the matginal tax rate for the firm\n",
    "\n",
    "\n",
    "**Noncash Working capital** = (Current Assets - Cash and Marketable Securities) - (Current Liabilities - all interest bearing Short Term Debt)\n",
    "_Changes in noncash working capital are not stable.  Therefore they should be tied to changes in revenue or COGS.  The percentage of noncash working capital to revenue over time can then be used with expected changes in revenue to determine future changes in noncash working capital._\n",
    "\n",
    "N.B. Short Term Debt includes that portion of long term debt due in the current period\n",
    "Reinvestment needs should include R&D and acquisitions, normalized over a suitable period of time.\n"
   ]
  },
  {
   "cell_type": "markdown",
   "metadata": {},
   "source": [
    "FCFF differs from FCFE primarily from cash flows associated with debt and other non-equity claims\n",
    "\n",
    "FCFF discounted at the cost of capital will yield the value of the operating assets of the firm.  To this you need to add the value of the non-operating assets to arrive at the value of the firm."
   ]
  },
  {
   "cell_type": "markdown",
   "metadata": {},
   "source": [
    "The value of the firm is calculated by discounting the FCFF by the WACC (weighted average cost of capital).\n"
   ]
  },
  {
   "cell_type": "markdown",
   "metadata": {},
   "source": [
    "## Stable Growth Firm\n",
    "\n",
    "Value of Firm = $FCFF_{1}$/ (WACC - $g_{n}$)\n",
    "\n",
    "$FCFF_{1}$ = Expected FCFF next year\n",
    "\n",
    "WACC = Weighted average cost of capital\n",
    "\n",
    "$g_{n}$ = Growth rate in FCFF forever\n",
    "\n",
    "N.B. Growth rate must be less than or equal to the growth rate in the economy\n",
    "    The characteristics of the firm must match that of a stable gropwth firm ( Reinvestment rate in stable period = growth / return on caital. Change in working capital should not be negative = cash inflow. Beta should be between 0.8 and 1.2) "
   ]
  },
  {
   "cell_type": "markdown",
   "metadata": {},
   "source": [
    "**Reinvestment** = (CAPEX - Depreciation + Change in Noncash Working Capital) / (EBIT(1-t))\n",
    "\n",
    "Capex (including R&D and acquisitions) is often lumpy, small expenditures one year followed by large expenditures in another year.  Therefore, Capex should be normalized when forecasting future earnings.  The number of years to use in this normalization depends on the firms Capex tendencies.  The period chosen for normalization should reflect these tendencies.\n",
    "\n",
    "Depreciation, on the other hand should not be normalized.\n",
    "\n",
    "\n",
    "**Return on Capital** = ($EBIT_{n}$(1-t)) /($BV of Equity_{n-1}$ + $BV of Debt_{n-1}$ - $Cash_{n-1}$)\n",
    "\n",
    "**Growth Rate** = Reinvestment X Return on Capital\n",
    "\n",
    "**Cost of Equity** = RiskFree Rate + Levered Beta(Risk Premium)\n",
    "\n",
    "**Levered Beta** = Unlevered Beta (1 + (1-t)(Debt / Equity))\n",
    "\n",
    "\n",
    "N.B. The levered beta of equity will change as the debt to equity ratio changes\n",
    "Unlevered beta is the unlevered beta for the sector corrected for cash\n",
    "Tax rate is the marginal tax rate"
   ]
  }
 ],
 "metadata": {
  "kernelspec": {
   "display_name": "Python 3.10.0 ('venv': venv)",
   "language": "python",
   "name": "python3"
  },
  "language_info": {
   "name": "python",
   "version": "3.10.0"
  },
  "orig_nbformat": 4,
  "vscode": {
   "interpreter": {
    "hash": "0a267134d86ee0a9e6d7ad12a5600f0ef231327cb93b3aef944c39c180d7b107"
   }
  }
 },
 "nbformat": 4,
 "nbformat_minor": 2
}
