{
 "cells": [
  {
   "cell_type": "markdown",
   "metadata": {},
   "source": [
    "# Financial Modeling Prep Discounted Cashflow Model\n",
    "\n",
    "## Free Cashflow to the Firm (FCFF)"
   ]
  },
  {
   "cell_type": "markdown",
   "metadata": {},
   "source": [
    "FCFF = EBIT(1 - Tax Rate) + Depreciation - CAPEX - Changes to Working Capital   -- Unlevered Cashflow"
   ]
  },
  {
   "cell_type": "markdown",
   "metadata": {},
   "source": [
    "FCFF differs from FCFE primarily from cash flows associated with debt and other non-equity claims\n",
    "\n",
    "FCFF discounted at the cost of capital will yield the value of the operating assets of the firm.  To this you need to add the value of the non-operating assets to arrive at the value of the firm."
   ]
  },
  {
   "cell_type": "markdown",
   "metadata": {},
   "source": [
    "The value of the firm is calculated by discounting the FCFF by the WACC (weighted average cost of capital).\n"
   ]
  },
  {
   "cell_type": "markdown",
   "metadata": {},
   "source": [
    "## Stable Growth Firm\n",
    "\n",
    "Value of Firm = $FCFF_{1}$/ (WACC - $g_{n}$)\n",
    "\n",
    "$FCFF_{1}$ = Expected FCFF next year\n",
    "\n",
    "WACC = Weighted average cost of capital\n",
    "\n",
    "$g_{n}$ = Growth rate in FCFF forever\n",
    "\n",
    "nb. Growth rate must be less than or equal to the growth rate in the economy\n",
    "    The characteristics of the firm must match that of a stable gropwth firm ( Reinvestment rate in stable period = growth / return on caital. Change in working capital should not be negative = cash inflow. Beta should be between 0.8 and 1.2) "
   ]
  },
  {
   "cell_type": "markdown",
   "metadata": {},
   "source": [
    "Reinvestment = (CAPEX - Depreciation + Change in Noncash Working Capital) / (EBIT(1-t))\n",
    "\n",
    "Return on Capital = ($EBIT_{n}$(1-t)) /($BV of Equity_{n-1}$ + $BV of Debt_{n-1}$ - $Cash_{n-1}$)\n",
    "\n"
   ]
  }
 ],
 "metadata": {
  "kernelspec": {
   "display_name": "Python 3.10.0 ('venv': venv)",
   "language": "python",
   "name": "python3"
  },
  "language_info": {
   "name": "python",
   "version": "3.10.0"
  },
  "orig_nbformat": 4,
  "vscode": {
   "interpreter": {
    "hash": "0a267134d86ee0a9e6d7ad12a5600f0ef231327cb93b3aef944c39c180d7b107"
   }
  }
 },
 "nbformat": 4,
 "nbformat_minor": 2
}
